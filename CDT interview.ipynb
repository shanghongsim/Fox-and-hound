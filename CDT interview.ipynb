{
 "cells": [
  {
   "cell_type": "markdown",
   "metadata": {},
   "source": [
    "Ways to imporve code:\n",
    "- make it more modular by introducing search function, eliminate for loops used to search for fox nd hound on board\n",
    "- make better searhc algorithms, reduce number of unnecessary checks, skip odd rows and columns\n",
    "- what happens if hounds reach end? bug cuz cannot move anywhere\n",
    "- increase efficiency of testing process. testing function implemented by looping through possible cases\n",
    "- pass more variables to decrease number of lines of code wirtten to find f and h, line 30 win function \n",
    "- make fox and hound objects\n",
    "- increase game complexity, level ups, make game more challenging and fun"
   ]
  }
 ],
 "metadata": {
  "kernelspec": {
   "display_name": "Python 3",
   "language": "python",
   "name": "python3"
  },
  "language_info": {
   "codemirror_mode": {
    "name": "ipython",
    "version": 3
   },
   "file_extension": ".py",
   "mimetype": "text/x-python",
   "name": "python",
   "nbconvert_exporter": "python",
   "pygments_lexer": "ipython3",
   "version": "3.8.3"
  }
 },
 "nbformat": 4,
 "nbformat_minor": 4
}
